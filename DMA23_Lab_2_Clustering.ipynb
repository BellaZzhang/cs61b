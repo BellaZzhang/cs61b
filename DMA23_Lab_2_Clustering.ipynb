{
  "cells": [
    {
      "cell_type": "markdown",
      "metadata": {
        "id": "view-in-github",
        "colab_type": "text"
      },
      "source": [
        "<a href=\"https://colab.research.google.com/github/BellaZzhang/cs61b/blob/master/DMA23_Lab_2_Clustering.ipynb\" target=\"_parent\"><img src=\"https://colab.research.google.com/assets/colab-badge.svg\" alt=\"Open In Colab\"/></a>"
      ]
    },
    {
      "cell_type": "markdown",
      "metadata": {
        "id": "RTtjzb-C8WfV"
      },
      "source": [
        "DATA MINING & ANALYTICS (2022)\n",
        "\n",
        "Make sure you fill in any place that says `YOUR CODE HERE` or `YOUR ANSWER HERE`, as well as your name below:"
      ]
    },
    {
      "cell_type": "code",
      "execution_count": null,
      "metadata": {
        "id": "84YmnDPm8WfX"
      },
      "outputs": [],
      "source": [
        "NAME = \"\""
      ]
    },
    {
      "cell_type": "markdown",
      "metadata": {
        "id": "mPzgt7538Wfe"
      },
      "source": [
        "---"
      ]
    },
    {
      "cell_type": "markdown",
      "metadata": {
        "deletable": false,
        "editable": false,
        "id": "a84b7eS58Wff",
        "nbgrader": {
          "checksum": "421e2e076e4bd859041d2c49e8c1b374",
          "grade": false,
          "grade_id": "cell-9ca594c076da14a9",
          "locked": true,
          "schema_version": 1,
          "solution": false
        }
      },
      "source": [
        "# Lab 2: Clustering ##\n",
        "\n",
        "**Please read the following instructions very carefully.**\n",
        "\n",
        "## About the Dataset\n",
        "The dataset for this lab has been created from some custom features from Lab 1. The columns are named as q1, q2....etc. A description of the features can be found at this link: https://docs.google.com/spreadsheets/d/18wwyjGku2HYfgDX9Vez64lGHz31E_PfbpmAdfb7ly6M/edit?usp=sharing\n",
        "\n",
        "## Working on the assignment / FAQs\n",
        "- **Always use the seed/random_state as *42* wherever applicable** (This is to ensure repeatability in answers, across students and coding environments).\n",
        "    - This can typically look like taking in another argument `random_state = 42` when applicable.\n",
        "- The points allotted per question is listed.\n",
        "- To avoid any ambiguity, each question also specifies what *value* the function must return. Note that these are dummy values and not the answers themselves.\n",
        "- If a question has multiple answers (due to differences in handling NaNs, zeros etc.), all answers will be considered.\n",
        "- Most assignments have bonus questions for extra credit, do try them out!\n",
        "- You can delete the `raise NotImplementedError()` when you are attempting the question.\n",
        "- **Submitting the assignment** : Save your work as a PDF (Print -> Save as PDF), download the `.ipynb` file from Colab (Download -> Download as .ipynb), and upload these two files to Gradescope. **Run all cells before submitting.**\n",
        "- **MAKE A COPY OF THIS FILE FOR YOURSELF TO EDIT/SAVE.**\n",
        "- That's about it. Happy coding!"
      ]
    },
    {
      "cell_type": "code",
      "execution_count": null,
      "metadata": {
        "deletable": false,
        "editable": false,
        "id": "uS-ZiJUd8Wfg",
        "nbgrader": {
          "checksum": "ccd093de0c01c601220c82809d785907",
          "grade": false,
          "grade_id": "cell-11a8a6cab098e8a1",
          "locked": true,
          "schema_version": 1,
          "solution": false
        },
        "outputId": "5eea3892-1ed6-4b63-c423-359a0e854e46",
        "colab": {
          "base_uri": "https://localhost:8080/"
        }
      },
      "outputs": [
        {
          "output_type": "stream",
          "name": "stdout",
          "text": [
            "--2023-09-08 21:24:06--  http://askoski.berkeley.edu/~zp/yelp_reviewers.csv\n",
            "Resolving askoski.berkeley.edu (askoski.berkeley.edu)... 169.229.192.179\n",
            "Connecting to askoski.berkeley.edu (askoski.berkeley.edu)|169.229.192.179|:80... connected.\n",
            "HTTP request sent, awaiting response... 200 OK\n",
            "Length: 35809479 (34M) [text/csv]\n",
            "Saving to: ‘yelp_reviewers.csv’\n",
            "\n",
            "yelp_reviewers.csv  100%[===================>]  34.15M  25.1MB/s    in 1.4s    \n",
            "\n",
            "2023-09-08 21:24:08 (25.1 MB/s) - ‘yelp_reviewers.csv’ saved [35809479/35809479]\n",
            "\n",
            "Dataset Downloaded: yelp_reviewers.csv\n",
            "                q3           q4           q5           q6           q7  \\\n",
            "count  7177.000000  7177.000000  7177.000000  7177.000000  7177.000000   \n",
            "mean      6.838651     5.281455     4.750871     8.808973     1.539160   \n",
            "std       7.597977    16.208703    13.866352    19.980443     0.885421   \n",
            "min       1.000000     1.000000     1.000000     1.000000     0.000000   \n",
            "25%       3.000000     1.000000     1.000000     2.000000     1.100000   \n",
            "50%       5.000000     2.000000     2.000000     5.000000     1.610000   \n",
            "75%       9.000000     4.000000     4.000000     9.000000     2.200000   \n",
            "max     252.000000   607.000000   474.000000   773.000000     5.530000   \n",
            "\n",
            "                q8           q9          q10          q11          q12  ...  \\\n",
            "count  7177.000000  7177.000000  7177.000000  7177.000000  7177.000000  ...   \n",
            "mean      0.934928     0.870281     1.549898    26.732782    25.660616  ...   \n",
            "std       0.976816     0.950066     1.024145    10.226302    11.451583  ...   \n",
            "min       0.000000     0.000000     0.000000     2.900000     1.410000  ...   \n",
            "25%       0.000000     0.000000     0.690000    20.000000    16.670000  ...   \n",
            "50%       0.690000     0.690000     1.610000    25.710000    25.000000  ...   \n",
            "75%       1.390000     1.390000     2.200000    33.330000    33.330000  ...   \n",
            "max       6.410000     6.160000     6.650000    77.780000    75.000000  ...   \n",
            "\n",
            "              q16r         q16u         q16v         q16w         q16x  \\\n",
            "count  7177.000000  7177.000000  7177.000000  7177.000000  7177.000000   \n",
            "mean      3.641912     0.462843    22.503414    25.665180     0.003744   \n",
            "std       1.483358     0.507827    14.350555    29.021007     0.006019   \n",
            "min       1.000000     0.000000     1.000000     1.000000     0.000000   \n",
            "25%       3.000000     0.000000    10.000000     9.000000     0.000491   \n",
            "50%       4.000000     0.333333    21.000000    18.000000     0.001967   \n",
            "75%       5.000000     0.666667    33.000000    33.000000     0.004666   \n",
            "max       5.000000     6.000000    53.000000   868.000000     0.150618   \n",
            "\n",
            "              q16y         q16z        q16aa        q16ab        q16ac  \n",
            "count  7177.000000  7177.000000  7177.000000  7177.000000  7177.000000  \n",
            "mean     74.046169     0.675212     0.552041     1.127751     3.649254  \n",
            "std      50.031941     1.503059     2.042566     4.652206     0.977100  \n",
            "min       1.333333     0.000000     0.000000     0.000000     1.000000  \n",
            "25%      39.666667     0.000000     0.000000     0.000000     3.200000  \n",
            "50%      62.900000     0.000000     0.000000     0.500000     3.777778  \n",
            "75%      95.687500     1.000000     0.000000     1.307692     4.333333  \n",
            "max     507.200000    44.000000   106.000000   342.300000     5.000000  \n",
            "\n",
            "[8 rows x 40 columns]\n",
            "....SETUP COMPLETE....\n"
          ]
        }
      ],
      "source": [
        "import pandas as pd\n",
        "import collections\n",
        "from sklearn.cluster import KMeans\n",
        "from sklearn.metrics import silhouette_score\n",
        "import numpy as np\n",
        "from sklearn.preprocessing import normalize\n",
        "\n",
        "import matplotlib\n",
        "import matplotlib.pyplot as plt\n",
        "\n",
        "%matplotlib inline\n",
        "matplotlib.style.use('ggplot')\n",
        "\n",
        "#DOWNLOADING DATASET\n",
        "!wget -nc http://askoski.berkeley.edu/~zp/yelp_reviewers.csv\n",
        "# !unzip -u yelp_reviewers.zip\n",
        "print('Dataset Downloaded: yelp_reviewers.csv')\n",
        "df = pd.read_csv('yelp_reviewers.csv', delimiter= ',')\n",
        "df = df.sample(frac=0.3, random_state=42)\n",
        "print(df.dropna().describe())\n",
        "\n",
        "print('....SETUP COMPLETE....')"
      ]
    },
    {
      "cell_type": "code",
      "execution_count": null,
      "metadata": {
        "id": "ANCMpJ178foc"
      },
      "outputs": [],
      "source": [
        "df.head().T"
      ]
    },
    {
      "cell_type": "markdown",
      "metadata": {
        "deletable": false,
        "editable": false,
        "id": "mV9fSZv88Wfk",
        "nbgrader": {
          "checksum": "abffba52a1391fd598ceb32fa84a5960",
          "grade": false,
          "grade_id": "cell-91b1f66036bc756a",
          "locked": true,
          "schema_version": 1,
          "solution": false
        }
      },
      "source": [
        "---"
      ]
    },
    {
      "cell_type": "markdown",
      "metadata": {
        "deletable": false,
        "editable": false,
        "id": "FyEW1omS8Wfk",
        "nbgrader": {
          "checksum": "9a3601934d89674b0f1ddb8953f392b8",
          "grade": false,
          "grade_id": "cell-3cb43492c95c0336",
          "locked": true,
          "schema_version": 1,
          "solution": false
        }
      },
      "source": [
        "### Question 1 `(1 point)`\n",
        "What is the best choice of k according to the silhouette metric for clustering q4-q6? Only consider 2 <= k <= 8. (hint: take a look at `silhouette_score`).\n",
        "\n",
        "\n",
        "**NOTE**: For features with high variance, empty clusters can occur. There are several ways of dealing with empty clusters. A common approach is to drop empty clusters. The preferred approach for this lab is to treat the empty clusters as “singletons”, leaving them empty with single point placeholders (so no need to drop anything for the purposes of the lab).\n"
      ]
    },
    {
      "cell_type": "code",
      "execution_count": null,
      "metadata": {
        "deletable": false,
        "id": "SHN499lB8Wfl",
        "nbgrader": {
          "checksum": "d870b56ad1274ceed7a8c1ad14120f4d",
          "grade": false,
          "grade_id": "cell-35daa961ef9ef163",
          "locked": false,
          "schema_version": 1,
          "solution": true
        }
      },
      "outputs": [],
      "source": [
        "#Make sure you return the answer value in this function.\n",
        "#The return value should be an integer.\n",
        "def q1(df):\n",
        "\n",
        "  # YOUR CODE HERE\n",
        "  # For KMeans use argument n_init = 10 when applicable.\n",
        "  raise NotImplementedError()\n",
        "\n",
        "print(q1(df))"
      ]
    },
    {
      "cell_type": "markdown",
      "metadata": {
        "deletable": false,
        "editable": false,
        "id": "t1USbOiZ8Wfo",
        "nbgrader": {
          "checksum": "9229f3626bea7238f91b319b76f8d6c1",
          "grade": false,
          "grade_id": "cell-1f4af152457c700f",
          "locked": true,
          "schema_version": 1,
          "solution": false
        }
      },
      "source": [
        "What is the best choice of k?"
      ]
    },
    {
      "cell_type": "code",
      "execution_count": null,
      "metadata": {
        "deletable": false,
        "id": "IiP-7-BI8Wfp",
        "nbgrader": {
          "checksum": "e686f8bb8933c06c0b80f1d3a0ab7c4c",
          "grade": true,
          "grade_id": "cell-75f42d06e03fe139",
          "locked": false,
          "points": 1,
          "schema_version": 1,
          "solution": true
        }
      },
      "outputs": [],
      "source": [
        "# YOUR ANSWER HERE"
      ]
    },
    {
      "cell_type": "markdown",
      "metadata": {
        "deletable": false,
        "editable": false,
        "id": "nR7L0bqm8Wft",
        "nbgrader": {
          "checksum": "4d1db294cd60c6368ab7f1cc287ac861",
          "grade": false,
          "grade_id": "cell-3f1e7c00e311da4b",
          "locked": true,
          "schema_version": 1,
          "solution": false
        }
      },
      "source": [
        "### Question 2 `(1 point)`\n",
        "What is the best choice of k according to the silhouette metric for clustering q7-q10? Only consider 2 <= k <= 8.\n",
        "\n",
        "**Note:** Keep in mind, there may be missing values in this part of the dataset! For these missing values, first find the subset of data specified for this question (q7-q10), then replace the missing values with 0. We do this since the missing values from q7-q10 are most commonly because of taking the log's of values of 0 from q3-q6."
      ]
    },
    {
      "cell_type": "code",
      "execution_count": null,
      "metadata": {
        "deletable": false,
        "id": "Jv9s-92L8Wft",
        "nbgrader": {
          "checksum": "9cf8b96c08dc833c7b88ee35362ed959",
          "grade": false,
          "grade_id": "cell-dc62c66cc9acf621",
          "locked": false,
          "schema_version": 1,
          "solution": true
        }
      },
      "outputs": [],
      "source": [
        "#Make sure you return the answer value in this function.\n",
        "#The return value should be an integer.\n",
        "def q2(df):\n",
        "\n",
        "  # YOUR CODE HERE\n",
        "  # For KMeans use argument n_init = 10 when applicable.\n",
        "  raise NotImplementedError()\n",
        "\n",
        "print(q2(df))"
      ]
    },
    {
      "cell_type": "markdown",
      "metadata": {
        "deletable": false,
        "editable": false,
        "id": "ohkPzjsf8Wfz",
        "nbgrader": {
          "checksum": "13a5d949504f1ed6dbf3bf474d135175",
          "grade": false,
          "grade_id": "cell-a798fe1067889c85",
          "locked": true,
          "schema_version": 1,
          "solution": false
        }
      },
      "source": [
        "What is the best choice of k?"
      ]
    },
    {
      "cell_type": "code",
      "execution_count": null,
      "metadata": {
        "deletable": false,
        "id": "WwlzPYjj8Wf0",
        "nbgrader": {
          "checksum": "39518f72ac99d22c2be6e053d683ecb3",
          "grade": true,
          "grade_id": "cell-b9c0fc321a251e1e",
          "locked": false,
          "points": 0.5,
          "schema_version": 1,
          "solution": true
        }
      },
      "outputs": [],
      "source": [
        "# YOUR ANSWER HERE"
      ]
    },
    {
      "cell_type": "markdown",
      "metadata": {
        "deletable": false,
        "editable": false,
        "id": "QW6AW5SN8Wf3",
        "nbgrader": {
          "checksum": "685cbed1a7666b907cfd74876798b246",
          "grade": false,
          "grade_id": "cell-abc5d1274688008b",
          "locked": true,
          "schema_version": 1,
          "solution": false
        }
      },
      "source": [
        "### Question 3 `(1 point)`\n",
        "What is the best choice of k according to the silhouette metric for clustering q11-q13? Only consider 2 <= k <= 8.\n",
        "\n",
        "**Note:** Keep in mind, there may be missing values in this part of the dataset! For these missing values, first find the subset of data specified for this question (q11-q13), then drop rows that have missing values."
      ]
    },
    {
      "cell_type": "code",
      "execution_count": null,
      "metadata": {
        "deletable": false,
        "id": "FU0QGeDx8Wf6",
        "nbgrader": {
          "checksum": "79b98812400934790474017de005b61b",
          "grade": false,
          "grade_id": "cell-fa2944f22a609780",
          "locked": false,
          "schema_version": 1,
          "solution": true
        }
      },
      "outputs": [],
      "source": [
        "#Make sure you return the answer value in this function.\n",
        "#The return value should be an integer.\n",
        "def q3(df):\n",
        "\n",
        "  # YOUR CODE HERE\n",
        "  # For KMeans use argument n_init = 10 when applicable.\n",
        "  raise NotImplementedError()\n",
        "\n",
        "print(q3(df))"
      ]
    },
    {
      "cell_type": "markdown",
      "metadata": {
        "deletable": false,
        "editable": false,
        "id": "Y-5NyKXZ8Wf_",
        "nbgrader": {
          "checksum": "7f1e4d9e7bc46ed5b72756983c3ea7d1",
          "grade": false,
          "grade_id": "cell-ffde459d3d7f30d4",
          "locked": true,
          "schema_version": 1,
          "solution": false
        }
      },
      "source": [
        "What is the best choice of k?"
      ]
    },
    {
      "cell_type": "code",
      "execution_count": null,
      "metadata": {
        "deletable": false,
        "id": "AZfZebXo8WgB",
        "nbgrader": {
          "checksum": "286a814a2fc12cff437655784716f2d7",
          "grade": true,
          "grade_id": "cell-dd60c729c46b5610",
          "locked": false,
          "points": 0.5,
          "schema_version": 1,
          "solution": true
        }
      },
      "outputs": [],
      "source": [
        "# YOUR ANSWER HERE"
      ]
    },
    {
      "cell_type": "markdown",
      "metadata": {
        "deletable": false,
        "editable": false,
        "id": "aQMzO6nF8WgJ",
        "nbgrader": {
          "checksum": "a18ebc832af60a47193b79496235a06c",
          "grade": false,
          "grade_id": "cell-3bf4719c7aa218c6",
          "locked": true,
          "schema_version": 1,
          "solution": false
        }
      },
      "source": [
        "### Question 4 `(1 point)`\n",
        "Take the best clustering (i.e., best value of K) from Question 3 and using the same subset of data from q11-q13, list the number of data points in each cluster. Return your answer in dictionary form (i.e. `ans = {0: 100, 1: 200, ...}`)."
      ]
    },
    {
      "cell_type": "code",
      "execution_count": null,
      "metadata": {
        "deletable": false,
        "id": "ztW4Dgbc8WgN",
        "nbgrader": {
          "checksum": "cc9c33b42265e3a41d8fefb18770a4e8",
          "grade": false,
          "grade_id": "cell-24fde636c2f83a67",
          "locked": false,
          "schema_version": 1,
          "solution": true
        }
      },
      "outputs": [],
      "source": [
        "#Make sure you return the answer value in this function.\n",
        "#The return value should be an dictionary. Eg : {0:1000,1:500,2:1460}.\n",
        "def q4(df):\n",
        "\n",
        "  # YOUR CODE HERE\n",
        "  # For KMeans use argument n_init = 10 when applicable.\n",
        "  raise NotImplementedError()"
      ]
    },
    {
      "cell_type": "code",
      "execution_count": null,
      "metadata": {
        "deletable": false,
        "editable": false,
        "id": "iIUdLPIw8WgQ",
        "nbgrader": {
          "checksum": "99637ce263f2207d1701716f5f1f44ca",
          "grade": true,
          "grade_id": "cell-2deca552fa9f803f",
          "locked": true,
          "points": 1,
          "schema_version": 1,
          "solution": false
        }
      },
      "outputs": [],
      "source": [
        "#This is an graded cell, do not edit\n",
        "print(q4(df))"
      ]
    },
    {
      "cell_type": "markdown",
      "metadata": {
        "deletable": false,
        "editable": false,
        "id": "xgii61fI8WgT",
        "nbgrader": {
          "checksum": "f455a94d03bf20a31ce26a2da672ee98",
          "grade": false,
          "grade_id": "cell-4277f89074807c16",
          "locked": true,
          "schema_version": 1,
          "solution": false
        }
      },
      "source": [
        "### Question 5 `(1 point)`\n",
        "Consider the best clustering from Question 3. Were there clusters that represented very funny but useless reviewers (check column definitions for columns corresponding to funny, useless, etc.)?  If so, print the center of that cluster."
      ]
    },
    {
      "cell_type": "code",
      "execution_count": null,
      "metadata": {
        "deletable": false,
        "id": "_XzB8j6f8WgU",
        "nbgrader": {
          "checksum": "d2664de57a82a4d02c7d529617a1450c",
          "grade": false,
          "grade_id": "cell-550e8e6942843343",
          "locked": false,
          "schema_version": 1,
          "solution": true
        }
      },
      "outputs": [],
      "source": [
        "#Make sure you return the answer value in this function.\n",
        "#The return value should be a list. Eg : [10, 30, 54].\n",
        "def q5(df):\n",
        "\n",
        "  # YOUR CODE HERE\n",
        "  # For KMeans use argument n_init = 10 when applicable.\n",
        "  raise NotImplementedError()"
      ]
    },
    {
      "cell_type": "code",
      "execution_count": null,
      "metadata": {
        "deletable": false,
        "editable": false,
        "id": "g22ke0I48WgX",
        "nbgrader": {
          "checksum": "36e1fb3627b616460376cfe2db01762c",
          "grade": true,
          "grade_id": "cell-5c9ad8f64f9e3cb9",
          "locked": true,
          "points": 1,
          "schema_version": 1,
          "solution": false
        }
      },
      "outputs": [],
      "source": [
        "#This is a graded cell, do not edit\n",
        "print(np.round_(q5(df), decimals=1, out=None))"
      ]
    },
    {
      "cell_type": "markdown",
      "metadata": {
        "deletable": false,
        "editable": false,
        "id": "U2yg2Z2_8Wgd",
        "nbgrader": {
          "checksum": "423fac1c99ce7c9090dd9e96e6778777",
          "grade": false,
          "grade_id": "cell-303792a4ac61cb3a",
          "locked": true,
          "schema_version": 1,
          "solution": false
        }
      },
      "source": [
        "### Question 6 `(1 point)`\n",
        "Consider the best clustering from Question 3. What was the centroid of the cluster that represented relatively uniform strength in all voting categories?"
      ]
    },
    {
      "cell_type": "code",
      "execution_count": null,
      "metadata": {
        "deletable": false,
        "id": "94isPDi08Wgf",
        "nbgrader": {
          "checksum": "9b6ebc1ed5ed8d8042dcf7cd49952b57",
          "grade": false,
          "grade_id": "cell-391c7439f978dff8",
          "locked": false,
          "schema_version": 1,
          "solution": true
        }
      },
      "outputs": [],
      "source": [
        "#Make sure you return the answer value in this function.\n",
        "#The return value should be a centroid in list form. Eg : [10, 10.5, 13].\n",
        "def q6(df):\n",
        "\n",
        "  # YOUR CODE HERE\n",
        "  # For KMeans use argument n_init = 10 when applicable.\n",
        "  raise NotImplementedError()"
      ]
    },
    {
      "cell_type": "code",
      "execution_count": null,
      "metadata": {
        "deletable": false,
        "editable": false,
        "id": "GKePHYay8Wgl",
        "nbgrader": {
          "checksum": "cfcf6b7a02a8426368b49ab70898113b",
          "grade": true,
          "grade_id": "cell-4a75c628cdd62ed3",
          "locked": true,
          "points": 1,
          "schema_version": 1,
          "solution": false
        }
      },
      "outputs": [],
      "source": [
        "#This is a graded cell, do not edit\n",
        "print(q6(df))"
      ]
    },
    {
      "cell_type": "markdown",
      "metadata": {
        "deletable": false,
        "editable": false,
        "id": "BlCXYH7J8Wgp",
        "nbgrader": {
          "checksum": "7277b47e7131491c1b5bc8487bc7f848",
          "grade": false,
          "grade_id": "cell-b29200abdbf3f648",
          "locked": true,
          "schema_version": 1,
          "solution": false
        }
      },
      "source": [
        "### Question 7 `(1 point)`\n",
        "Cluster the dataset using $k = 7$ and using features q7-q15 (refer to the column descriptions if needed).\n",
        "What is the silhouette metric for this clustering?\n",
        "For a more in-depth understanding of cluster analysis with silhouette, look [here](http://scikit-learn.org/stable/auto_examples/cluster/plot_kmeans_silhouette_analysis.html).\n",
        "\n",
        "As before, fill NaN values in q7-q10 with 0, but drop rows that have NaN values from q11-q15."
      ]
    },
    {
      "cell_type": "code",
      "execution_count": null,
      "metadata": {
        "deletable": false,
        "id": "P5AW-1Hj8Wgq",
        "nbgrader": {
          "checksum": "aadc8b4d3daea84bcdf7326f7d9e1e48",
          "grade": false,
          "grade_id": "cell-692872a9776a2f81",
          "locked": false,
          "schema_version": 1,
          "solution": true
        }
      },
      "outputs": [],
      "source": [
        "#Make sure you return the answer value in this function.\n",
        "#The return value should be a float.\n",
        "def q7(df):\n",
        "\n",
        "  # YOUR CODE HERE\n",
        "  # For KMeans use argument n_init = 10 when applicable.\n",
        "  raise NotImplementedError()"
      ]
    },
    {
      "cell_type": "code",
      "execution_count": null,
      "metadata": {
        "deletable": false,
        "editable": false,
        "id": "Kx23kyP18Wgw",
        "nbgrader": {
          "checksum": "7c847dc80333efefec63b12bce9a3c23",
          "grade": true,
          "grade_id": "cell-d5a3ed8462b9b40b",
          "locked": true,
          "points": 1,
          "schema_version": 1,
          "solution": false
        }
      },
      "outputs": [],
      "source": [
        "#This is a graded cell, do not edit\n",
        "print(q7(df))"
      ]
    },
    {
      "cell_type": "markdown",
      "metadata": {
        "deletable": false,
        "editable": false,
        "id": "ghXtWRlm8Wg1",
        "nbgrader": {
          "checksum": "b5206e977bdec3a2a2da9a55d42539e1",
          "grade": false,
          "grade_id": "cell-bb20d152047de4c0",
          "locked": true,
          "schema_version": 1,
          "solution": false
        }
      },
      "source": [
        "### Question 8 `(1 point)`\n",
        "Cluster the dataset using $k = 7$ and using features q7-q15 (refer to the column descriptions if needed).\n",
        "\n",
        "What is the average q3 value in each of the clusters? Replace/fill NaN values for q7-q15 as you have done for previous questions."
      ]
    },
    {
      "cell_type": "code",
      "execution_count": null,
      "metadata": {
        "deletable": false,
        "id": "7VLNa7ZT8Wg2",
        "nbgrader": {
          "checksum": "cec8fcc62994a8c42d2a828240cf8d70",
          "grade": false,
          "grade_id": "cell-ce75d2c2b37a5939",
          "locked": false,
          "schema_version": 1,
          "solution": true
        }
      },
      "outputs": [],
      "source": [
        "#Make sure you return the answer value in this function.\n",
        "#The return value should be an Array. Eg : [10, 30, 54].\n",
        "def q8(df):\n",
        "\n",
        "  # YOUR CODE HERE\n",
        "  # For KMeans use argument n_init = 10 when applicable.\n",
        "  raise NotImplementedError()"
      ]
    },
    {
      "cell_type": "code",
      "execution_count": null,
      "metadata": {
        "deletable": false,
        "editable": false,
        "id": "uU1zA9hQ8Wg7",
        "nbgrader": {
          "checksum": "8fcac0a1587052a68abfd2dc22e6a444",
          "grade": true,
          "grade_id": "cell-125a523ba764c027",
          "locked": true,
          "points": 1,
          "schema_version": 1,
          "solution": false
        }
      },
      "outputs": [],
      "source": [
        "#This is a graded cell, do not edit\n",
        "print(np.round_(q8(df), decimals=1, out=None))"
      ]
    },
    {
      "cell_type": "markdown",
      "metadata": {
        "deletable": false,
        "editable": false,
        "id": "ImMBccCv8WhE",
        "nbgrader": {
          "checksum": "539014b1c77f0d5159b9158216999ffa",
          "grade": false,
          "grade_id": "cell-32dc52f985a4469b",
          "locked": true,
          "schema_version": 1,
          "solution": false
        }
      },
      "source": [
        "### Question 9 `(2 points)`\n",
        "\n",
        "We will now cluster the dataset using all features in the dataset.\n",
        "\n",
        "We can drop features with high incidents of `-inf` / `NaN` / blank values. We will also perform some form of normalization on these features so as not to over bias the clustering towards the larger magnitude features.\n",
        "\n",
        "Let's go ahead and get started."
      ]
    },
    {
      "cell_type": "markdown",
      "metadata": {
        "id": "retvc8Yzp60D"
      },
      "source": [
        "\n",
        "#### Data Cleansing and Normalization ####\n",
        "**Check how many null values there are in each column.**"
      ]
    },
    {
      "cell_type": "code",
      "execution_count": null,
      "metadata": {
        "deletable": false,
        "editable": false,
        "id": "vdt07lvl8WhH",
        "nbgrader": {
          "checksum": "26c5eee0748fe77d6f219f2f654adc69",
          "grade": false,
          "grade_id": "cell-00e25d9828db774a",
          "locked": true,
          "schema_version": 1,
          "solution": false
        }
      },
      "outputs": [],
      "source": [
        "# YOUR CODE HERE"
      ]
    },
    {
      "cell_type": "markdown",
      "metadata": {
        "deletable": false,
        "editable": false,
        "id": "yzAo6QRS8WhO",
        "nbgrader": {
          "checksum": "059796c35a25a2239b6af643d573077c",
          "grade": false,
          "grade_id": "cell-dda1709aadca4b74",
          "locked": true,
          "schema_version": 1,
          "solution": false
        }
      },
      "source": [
        "It looks like q8 - q13 and q16ab have a lot of null values. Let's see what the impact is of removing the two columns with the most null values.\n",
        "\n",
        "**Drop the two columns with the most NaN values, and then remove all rows with NaN values remaining.**"
      ]
    },
    {
      "cell_type": "code",
      "execution_count": null,
      "metadata": {
        "deletable": false,
        "editable": false,
        "id": "pSrZ9i3g8WhQ",
        "nbgrader": {
          "checksum": "c9201f034d5527471e11c4bdf4259a06",
          "grade": false,
          "grade_id": "cell-e67e9b14f016567d",
          "locked": true,
          "schema_version": 1,
          "solution": false
        }
      },
      "outputs": [],
      "source": [
        "# YOUR CODE HERE"
      ]
    },
    {
      "cell_type": "markdown",
      "metadata": {
        "deletable": false,
        "editable": false,
        "id": "gQbRuq_Z8Whb",
        "nbgrader": {
          "checksum": "55ec19beab75bcb01d51763aa77b7c7d",
          "grade": false,
          "grade_id": "cell-0832f08869a19534",
          "locked": true,
          "schema_version": 1,
          "solution": false
        }
      },
      "source": [
        "By removing two features, we have effectively doubled the number of rows remaining than if we just removed all rows with a NaN value. That's pretty good.  \n",
        "\n",
        "Now, let's preprocess categorical variables into dummy variables. (hint: look at `pd.get_dummies`)."
      ]
    },
    {
      "cell_type": "code",
      "execution_count": null,
      "metadata": {
        "id": "TuE4zwIBzDGZ"
      },
      "outputs": [],
      "source": [
        "# YOUR CODE HERE"
      ]
    },
    {
      "cell_type": "markdown",
      "metadata": {
        "deletable": false,
        "editable": false,
        "id": "AGnnilDI8Whl",
        "nbgrader": {
          "checksum": "7409a97cd6cc5a2203cb5953fd78951e",
          "grade": false,
          "grade_id": "cell-0bf07ed81b15a7c6",
          "locked": true,
          "schema_version": 1,
          "solution": false
        }
      },
      "source": [
        "Now, normalize the remaining values."
      ]
    },
    {
      "cell_type": "code",
      "execution_count": null,
      "metadata": {
        "deletable": false,
        "editable": false,
        "id": "-tYTGviT8Whm",
        "nbgrader": {
          "checksum": "d415896af702471cbf3bad5e3bbf2298",
          "grade": false,
          "grade_id": "cell-d0c0fa3af31b680b",
          "locked": true,
          "schema_version": 1,
          "solution": false
        }
      },
      "outputs": [],
      "source": [
        "# YOUR CODE HERE"
      ]
    },
    {
      "cell_type": "markdown",
      "metadata": {
        "deletable": false,
        "editable": false,
        "id": "jSJjHlsc8Wht",
        "nbgrader": {
          "checksum": "26e9bec01f855d44456f65879afa7ccf",
          "grade": false,
          "grade_id": "cell-be1b2a4ecbcb5558",
          "locked": true,
          "schema_version": 1,
          "solution": false
        }
      },
      "source": [
        "Using the the \"sum of squared errors\" metric along with the elbow method (make a graph and visually examine for the elbow), what is the best k to use for this dataset? (Hint: look at the `inertia_` attribute for k-means in sklearn)."
      ]
    },
    {
      "cell_type": "code",
      "execution_count": null,
      "metadata": {
        "deletable": false,
        "id": "HoZOPumL8Whv",
        "nbgrader": {
          "checksum": "3971d6b7067c2e2b586a79b0fca34252",
          "grade": true,
          "grade_id": "cell-f49f54902337159c",
          "locked": false,
          "points": 2,
          "schema_version": 1,
          "solution": true
        }
      },
      "outputs": [],
      "source": [
        "# The return value should be a graph to visualize the elbow method and the value of k determined from that graph.\n",
        "\n",
        "# YOUR CODE HERE\n",
        "# For KMeans use argument n_init = 10 when applicable."
      ]
    },
    {
      "cell_type": "markdown",
      "metadata": {
        "id": "pbXEsAnx2-ik"
      },
      "source": [
        "**Answer: YOUR ANSWER HERE**"
      ]
    },
    {
      "cell_type": "markdown",
      "metadata": {
        "deletable": false,
        "editable": false,
        "id": "_-cRpVgA8Wh2",
        "nbgrader": {
          "checksum": "78e8416b2c9c63fb2e91cc747a982eb9",
          "grade": false,
          "grade_id": "cell-ed56b09f2baf02c7",
          "locked": true,
          "schema_version": 1,
          "solution": false
        }
      },
      "source": [
        "### Question 10 `(1 points)`\n",
        "For this question, please come up with your own question about this dataset and using a clustering technique as part of your method of answering it. Describe the question you propose and how clustering can answer that question. Feel free to use additional cells if needed.\n"
      ]
    },
    {
      "cell_type": "markdown",
      "metadata": {
        "id": "c9JeChN2CcsC"
      },
      "source": [
        "**Question: YOUR QUESTION HERE**"
      ]
    },
    {
      "cell_type": "code",
      "execution_count": null,
      "metadata": {
        "id": "Xn1xen_8CuY3"
      },
      "outputs": [],
      "source": [
        "# YOUR CODE HERE"
      ]
    },
    {
      "cell_type": "markdown",
      "metadata": {
        "id": "5nkFsYVnD7ll"
      },
      "source": [
        "### **Written Answer**"
      ]
    },
    {
      "cell_type": "markdown",
      "metadata": {
        "id": "b-aokzFoDhWA"
      },
      "source": [
        "**Answer:** YOUR ANSWER HERE"
      ]
    },
    {
      "cell_type": "markdown",
      "metadata": {
        "deletable": false,
        "editable": false,
        "id": "Ylv6UWqm8WiC",
        "nbgrader": {
          "checksum": "47c18987b74081b9f0e201d36229f33d",
          "grade": false,
          "grade_id": "cell-b549ed2cba475bb7",
          "locked": true,
          "schema_version": 1,
          "solution": false
        }
      },
      "source": [
        "## Bonus question (`2 Points`) - Reviewer overlap:\n",
        "\n",
        "Now, let's take a look back at what we were doing last week, and use that in junction with what we've learned from above today.\n",
        "\n",
        "For this bonus question, please:\n",
        "- Download last week's dataset\n",
        "- Aggregate cool, funny, and useful votes for each business id\n",
        "- You may transform the aggregations (take %, log, or leave it as it is)\n",
        "- Cluster this dataframe (you can choose k). Do you find any meaningful/interesting clusters?\n",
        "- Assign the cluster label to each business id\n",
        "- Merge this with users to show what clusters the reviewers have reviewed.\n",
        "\n",
        "\n",
        "**You should be returning a dataframe with the following structure in the end:**\n",
        "\n",
        "Rows: user IDs as indices.\n",
        "\n",
        "Columns: boolean columns describing if the user ID has a review for each of the labels determined from the K-Means clustering, a boolean column describing if the user ID has a review for all of the given labels, and a column composing of lists of cluster IDs that the given user ID has written reviews for."
      ]
    },
    {
      "cell_type": "code",
      "execution_count": null,
      "metadata": {
        "id": "ZA7-1wpAE40P"
      },
      "outputs": [],
      "source": [
        "# YOUR CODE HERE\n",
        "# For KMeans use argument n_init = 10 when applicable."
      ]
    },
    {
      "cell_type": "code",
      "execution_count": null,
      "metadata": {
        "id": "EgyyE_xVteq8"
      },
      "outputs": [],
      "source": [
        "#This is a graded cell, do not edit\n",
        "print(bonus_df.head())"
      ]
    },
    {
      "cell_type": "markdown",
      "metadata": {
        "id": "h7v7FfzrDKCo"
      },
      "source": [
        "*ⓒ Prof. Zachary Pardos, 2022*"
      ]
    }
  ],
  "metadata": {
    "colab": {
      "provenance": [],
      "include_colab_link": true
    },
    "kernelspec": {
      "display_name": "Python 3",
      "language": "python",
      "name": "python3"
    },
    "language_info": {
      "codemirror_mode": {
        "name": "ipython",
        "version": 3
      },
      "file_extension": ".py",
      "mimetype": "text/x-python",
      "name": "python",
      "nbconvert_exporter": "python",
      "pygments_lexer": "ipython3",
      "version": "3.6.9"
    }
  },
  "nbformat": 4,
  "nbformat_minor": 0
}